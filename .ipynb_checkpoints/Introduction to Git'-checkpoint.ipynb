{
 "cells": [
  {
   "cell_type": "code",
   "execution_count": null,
   "metadata": {},
   "outputs": [],
   "source": [
    "git add \"specific_file_path\"\n",
    "\n",
    "git diff \"file-path / directory path\"\n",
    "\n",
    "echo -e \"Lovelace\\nHopper\\nJohnson\\nWilson\" > names.txt #to create a new file\n",
    "\n",
    "git commit -m \"Adding a reference\"\n",
    "\n",
    "git status #to return status of modified files\n",
    "\n",
    "git log # is used to view the log of the project's history\n",
    "\n",
    "git commit \"filePath\" #will open a file to write a commit message\"\n",
    "\n",
    "git clean -f\n",
    "\n",
    "git config --list # with one of three additional options:\n",
    "  #  --system: settings for every user on this computer.\n",
    "  #  --global: settings for every one of your projects.\n",
    "  #  --local: settings for one specific project.\n",
    "    \n",
    "git checkout \"filepath\" #to undo changes occured\n",
    "\n",
    "git reset \"filepath\"#to unstage the file data/northern.csv\n",
    "\n",
    "git checkout 5be6 data/western.csv #return to a specific commit with it's hash\n",
    "git checkout -- . #undo all directory changes\n",
    "git reset #to remove all files from the staging area.\n",
    "\n",
    "git branch #How many branches are in this repository\n",
    "\n",
    "git diff branch-1 branch-2 #to show difference files \n",
    "\n",
    "git checkout -b branch-name #To create a branch then switch to it in one step, you add a -b flag, calling\n",
    "\n",
    "git merge #source #destination"
   ]
  },
  {
   "cell_type": "code",
   "execution_count": null,
   "metadata": {},
   "outputs": [],
   "source": [
    "git add #->move code to staging area"
   ]
  },
  {
   "cell_type": "code",
   "execution_count": null,
   "metadata": {},
   "outputs": [],
   "source": [
    "git init project-name\n",
    "\n",
    "git remote -v #which shows the remote's URLs.\n",
    "\n",
    "git remote add remote-name URL\n",
    "\n",
    "git remote rm remote-name #remove existing ones using:\n",
    "\n",
    "git checkout -- . #Discard the changes in your repository.\n",
    "\n",
    "git push origin master"
   ]
  }
 ],
 "metadata": {
  "kernelspec": {
   "display_name": "Python 3",
   "language": "python",
   "name": "python3"
  },
  "language_info": {
   "codemirror_mode": {
    "name": "ipython",
    "version": 3
   },
   "file_extension": ".py",
   "mimetype": "text/x-python",
   "name": "python",
   "nbconvert_exporter": "python",
   "pygments_lexer": "ipython3",
   "version": "3.7.1"
  }
 },
 "nbformat": 4,
 "nbformat_minor": 2
}
