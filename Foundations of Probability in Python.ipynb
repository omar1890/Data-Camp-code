{
 "cells": [
  {
   "cell_type": "markdown",
   "metadata": {},
   "source": [
    "Chapter 1 :Let's start flipping coins\n",
    "A coin flip is the classic example of a random experiment. The possible outcomes are heads or tails. This type of experiment, known as a Bernoulli or binomial trial, allows us to study problems with two possible outcomes, like “yes” or “no” and “vote” or “no vote.” This chapter introduces Bernoulli experiments, binomial distributions to model multiple Bernoulli trials, and probability simulations with the scipy library."
   ]
  },
  {
   "cell_type": "code",
   "execution_count": null,
   "metadata": {},
   "outputs": [],
   "source": [
    "# Import the bernoulli object from scipy.stats\n",
    "from scipy.stats import bernoulli\n",
    "\n",
    "# Set the random seed to reproduce the results\n",
    "np.random.seed(42)\n",
    "\n",
    "# Simulate ten coin flips and get the number of heads\n",
    "five_coin_flips = bernoulli.rvs(p=0.5, size=5)\n",
    "coin_flips_sum = sum(five_coin_flips)\n",
    "print(coin_flips_sum)"
   ]
  },
  {
   "cell_type": "code",
   "execution_count": null,
   "metadata": {},
   "outputs": [],
   "source": [
    "# Set the random seed to reproduce the results\n",
    "np.random.seed(42)\n",
    "\n",
    "# Simulate 20 trials of 10 coin flips \n",
    "draws = binom.rvs(n=10, p=0.35, size=20)\n",
    "print(draws)"
   ]
  },
  {
   "cell_type": "markdown",
   "metadata": {},
   "source": [
    "binom.pmf() calculates the probability of having exactly k heads out of n coin flips.\n",
    "binom.cdf() calculates the probability of having k heads or less out of n coin flips.\n",
    "binom.sf() calculates the probability of having more than k heads out of n coin flips."
   ]
  },
  {
   "cell_type": "code",
   "execution_count": null,
   "metadata": {},
   "outputs": [],
   "source": [
    "# Probability of getting exactly 1 defective component\n",
    "prob_one_defect = binom.pmf(k=1, n=50, p=0.02)\n",
    "print(prob_one_defect)\n",
    "\n",
    "# Probability of not getting any defective components\n",
    "prob_no_defects = binom.pmf(k=0, n=50, p=0.02)\n",
    "print(prob_no_defects)\n",
    "\n",
    "# Probability of getting 2 or less defective components\n",
    "prob_two_or_less_defects = binom.cdf(k=2, n=50, p=0.02)\n",
    "print(prob_two_or_less_defects)"
   ]
  },
  {
   "cell_type": "code",
   "execution_count": null,
   "metadata": {},
   "outputs": [],
   "source": [
    "# Calculate the probability of getting exactly 5 yes responses\n",
    "prob_five_yes = binom.pmf(k=5, n=8, p=0.65)\n",
    "print(prob_five_yes)\n",
    "\n",
    "# Calculate the probability of getting 3 or less no responses\n",
    "prob_three_or_less_no = 1-binom.cdf(k=3, n=8, p=0.65)\n",
    "print(prob_three_or_less_no)\n",
    "\n",
    "# Calculate the probability of getting more than 3 yes responses\n",
    "prob_more_than_three_yes = binom.sf(k=3, n=8, p=0.65)\n",
    "print(prob_more_than_three_yes)"
   ]
  },
  {
   "cell_type": "code",
   "execution_count": null,
   "metadata": {},
   "outputs": [],
   "source": [
    "# What is the probability of solving 4 burglaries?\n",
    "four_solved = binom.pmf(k=4, n=9, p=0.20)\n",
    "print(four_solved)\n",
    "\n",
    "\n",
    "# What is the probability of solving more than 3 burglaries?\n",
    "more_than_three_solved = binom.sf(k=3, n=9, p=0.20)\n",
    "print(more_than_three_solved)\n",
    "\n",
    "\n",
    "# What is the probability of solving 2 or 3 burglaries?\n",
    "two_or_three_solved = binom.pmf(k=2, n=9, p=0.20) + binom.pmf(k=3, n=9, p=0.20)\n",
    "print(two_or_three_solved)\n",
    "\n",
    "# What is the probability of solving 1 or fewer or more than 7 burglaries?\n",
    "tail_probabilities = binom.cdf(k=1, n=9, p=0.20) + binom.sf(k=7, n=9, p=0.20)\n",
    "print(tail_probabilities)"
   ]
  },
  {
   "cell_type": "code",
   "execution_count": null,
   "metadata": {},
   "outputs": [],
   "source": [
    "# Sample mean from a generated sample of 100 fair coin flips\n",
    "sample_of_100_flips = binom.rvs(n=1, p=0.5, size=100)\n",
    "sample_mean_100_flips = describe(sample_of_100_flips).mean\n",
    "print(sample_mean_100_flips)\n",
    "\n",
    "# Sample mean from a generated sample of 1,000 fair coin flips\n",
    "sample_mean_1000_flips = describe(binom.rvs(n=1, p=0.5, size=1000)).mean\n",
    "print(sample_mean_1000_flips)\n",
    "\n",
    "# Sample mean from a generated sample of 2,000 fair coin flips\n",
    "sample_mean_2000_flips = describe(binom.rvs(n=1, p=0.5, size=2000)).mean\n",
    "print(sample_mean_2000_flips)"
   ]
  },
  {
   "cell_type": "code",
   "execution_count": null,
   "metadata": {},
   "outputs": [],
   "source": [
    "sample = binom.rvs(n=10, p=0.3, size=2000)\n",
    "\n",
    "# Calculate the sample mean and variance from the sample variable\n",
    "sample_describe = describe(sample)\n",
    "\n",
    "# Calculate the sample mean using the values of n and p\n",
    "mean = 10*0.3\n",
    "\n",
    "# Calculate the sample variance using the value of 1-p\n",
    "variance = mean*(1-0.3)\n",
    "\n",
    "# Calculate the sample mean and variance for 10 coin flips with p=0.3\n",
    "binom_stats = binom.stats(n=10, p=0.3)\n",
    "\n",
    "print(sample_describe.mean, sample_describe.variance, mean, variance, binom_stats)"
   ]
  },
  {
   "cell_type": "code",
   "execution_count": null,
   "metadata": {},
   "outputs": [],
   "source": [
    "for i in range(0, 1500):\n",
    "    # 10 trials of 10 coin flips with 25% probability of heads\n",
    "    sample = binom.rvs(n=10,p=0.25, size=10)\n",
    "    # Mean and variance of the values in the sample variable\n",
    "    averages.append(describe(sample).mean)\n",
    "    variances.append(describe(sample).variance)\n",
    "    \n",
    "    \n",
    "for i in range(0, 1500):\n",
    "\t# 10 draws of 10 coin flips with 25% probability of heads\n",
    "    sample = binom.rvs(n=10, p=0.25, size=10)\n",
    "\t# Mean and variance of the values in the sample variable\n",
    "    averages.append(describe(sample).mean)\n",
    "    variances.append(describe(sample).variance)\n",
    "  \n",
    "# Calculate the mean of the averages variable\n",
    "print(\"Mean {}\".format(describe(averages).mean))\n",
    "\n",
    "# Calculate the mean of the variances variable\n",
    "print(\"Variance {}\".format(describe(variances).mean))\n",
    "\n",
    "\n",
    "for i in range(0, 1500):\n",
    "\t# 10 draws of 10 coin flips with 25% probability of heads\n",
    "    sample = binom.rvs(n=10, p=0.25, size=10)\n",
    "\t# Mean and variance of the values in the sample variable\n",
    "    averages.append(describe(sample).mean)\n",
    "    variances.append(describe(sample).variance)\n",
    "  \n",
    "# Calculate the mean of the averages variable\n",
    "print(\"Mean {}\".format(describe(averages).mean))\n",
    "\n",
    "# Calculate the mean of the variances variable\n",
    "print(\"Variance {}\".format(describe(variances).mean))\n",
    "\n",
    "# Calculate the mean and variance\n",
    "print(binom.stats(n=10, p=0.25))"
   ]
  },
  {
   "cell_type": "markdown",
   "metadata": {},
   "source": [
    "Chapter 2 :Calculate some probabilities"
   ]
  },
  {
   "cell_type": "code",
   "execution_count": null,
   "metadata": {},
   "outputs": [],
   "source": [
    "# Count how many times you got 2 heads from the sample data\n",
    "count_2_heads = find_repeats(sample_of_two_coin_flips).counts[2]\n",
    "\n",
    "# Divide the number of heads by the total number of draws\n",
    "prob_2_heads = count_2_heads / len(sample_of_two_coin_flips)\n",
    "\n",
    "# Display the result\n",
    "print(prob_2_heads)\n",
    "\n",
    "# Get the relative frequency from sample_of_two_coin_flips\n",
    "# Set numbins as 3\n",
    "# Extract frequency\n",
    "rel_freq = relfreq(sample_of_two_coin_flips, numbins=3).frequency\n",
    "print(rel_freq)\n",
    "\n",
    "\n",
    "# Probability of getting 0, 1, or 2 from the distribution\n",
    "probabilities = binom.pmf([0, 1, 2], n=2, p=0.5)\n",
    "print(probabilities)"
   ]
  },
  {
   "cell_type": "code",
   "execution_count": null,
   "metadata": {},
   "outputs": [],
   "source": [
    "# Individual probabilities\n",
    "P_Eng_fails = 0.01\n",
    "P_Eng_works = 0.99\n",
    "P_GearB_fails = 0.005\n",
    "P_GearB_works = 0.995\n",
    "\n",
    "# Joint probability calculation\n",
    "P_EngW_GearBW = P_Eng_works*P_GearB_works\n",
    "P_EngF_GearBF = P_GearB_fails*P_Eng_fails\n",
    "\n",
    "# Calculate result\n",
    "P_fails_or_works = P_EngW_GearBW+P_EngF_GearBF\n",
    "\n",
    "print(P_fails_or_works)"
   ]
  },
  {
   "cell_type": "code",
   "execution_count": null,
   "metadata": {},
   "outputs": [],
   "source": [
    "# Needed quantities\n",
    "On_time = 241\n",
    "Total_departures = 276\n",
    "\n",
    "# Probability calculation\n",
    "P_On_time = On_time / Total_departures\n",
    "\n",
    "print(P_On_time)\n",
    "\n",
    "# Needed quantities\n",
    "P_On_time = 241 / 276\n",
    "\n",
    "# Probability calculation\n",
    "P_Delayed = 1 - P_On_time\n",
    "\n",
    "print(P_Delayed)\n",
    "\n",
    "\n",
    "# Needed quantities\n",
    "Delayed_on_Tuesday = 24\n",
    "On_Tuesday = 138\n",
    "\n",
    "# Probability calculation\n",
    "P_Delayed_g_Tuesday = Delayed_on_Tuesday / On_Tuesday\n",
    "\n",
    "print(P_Delayed_g_Tuesday)\n",
    "\n",
    "# Needed quantities\n",
    "Delayed_on_Friday = 11\n",
    "On_Friday = 138\n",
    "\n",
    "# Probability calculation\n",
    "P_Delayed_g_Friday = Delayed_on_Friday / On_Friday\n",
    "\n",
    "print(P_Delayed_g_Friday)"
   ]
  },
  {
   "cell_type": "code",
   "execution_count": null,
   "metadata": {},
   "outputs": [],
   "source": [
    "# Individual probabilities\n",
    "P_Non_ace = 48/52\n",
    "P_Non_ace_n_Red = 24/52\n",
    "\n",
    "# Conditional probability calculation\n",
    "P_Red_given_Non_ace = P_Non_ace_n_Red/P_Non_ace\n",
    "\n",
    "print(P_Red_given_Non_ace)"
   ]
  },
  {
   "cell_type": "code",
   "execution_count": null,
   "metadata": {},
   "outputs": [],
   "source": [
    "# Needed probabilities\n",
    "P_A = 0.70\n",
    "P_last5000_g_A = 0.99\n",
    "P_B = 0.30\n",
    "P_last5000_g_B = 0.95\n",
    "\n",
    "# Total probability calculation\n",
    "P_last_5000 = P_A*P_last5000_g_A+ P_B*P_last5000_g_B\n",
    "\n",
    "print(P_last_5000)"
   ]
  },
  {
   "cell_type": "code",
   "execution_count": null,
   "metadata": {},
   "outputs": [],
   "source": [
    "# Individual probabilities\n",
    "P_X = 0.43\n",
    "P_Y = 0.25\n",
    "P_Z = 0.32\n",
    "\n",
    "# Conditional probabilities\n",
    "P_Support_g_X = 0.53\n",
    "P_Support_g_Y = 0.67\n",
    "P_Support_g_Z = 0.32\n",
    "\n",
    "# Total probability calculation\n",
    "P_Support = P_X * P_Support_g_X + P_Y * P_Support_g_Y + P_Z * P_Support_g_Z\n",
    "print(P_Support)"
   ]
  },
  {
   "cell_type": "code",
   "execution_count": null,
   "metadata": {},
   "outputs": [],
   "source": [
    "# Individual probabilities & conditional probabilities\n",
    "P_V1 = 0.5\n",
    "P_V2 = 0.25\n",
    "P_V3 = 0.25\n",
    "P_D_g_V1 = 0.01\n",
    "P_D_g_V2 = 0.02\n",
    "P_D_g_V3 = 0.03\n",
    "\n",
    "# Probability of Damaged\n",
    "P_Damaged = (P_V1 * P_D_g_V1) + (P_V2 * P_D_g_V2) + (P_V3 * P_D_g_V3)\n",
    "\n",
    "# Bayes' rule for P(V3|D)\n",
    "P_V3_g_D = (P_V3 * P_D_g_V3) / P_Damaged\n",
    "\n",
    "print(P_V3_g_D)"
   ]
  },
  {
   "cell_type": "code",
   "execution_count": null,
   "metadata": {},
   "outputs": [],
   "source": [
    "# Probability of having Swine_flu\n",
    "P_Swine_flu = 1./9000\n",
    "# Probability of not having Swine_flu\n",
    "P_no_Swine_flu = 1 - P_Swine_flu\n",
    "# Probability of being positive given that you have Swine_flu\n",
    "P_Positive_g_Swine_flu = 1\n",
    "# Probability of being positive given that you do not have Swine_flu\n",
    "P_Positive_g_no_Swine_flu = 0.01\n",
    "\n",
    "# Probability of Positive\n",
    "P_Positive = (P_Swine_flu * P_Positive_g_Swine_flu) + (P_no_Swine_flu * P_Positive_g_no_Swine_flu)\n",
    "\n",
    "# Bayes' rule for P(Swine_flu|Positive)\n",
    "P_Swine_flu_g_Positive = (P_Swine_flu * P_Positive_g_Swine_flu) / P_Positive\n",
    "\n",
    "print(P_Swine_flu_g_Positive)"
   ]
  },
  {
   "cell_type": "markdown",
   "metadata": {},
   "source": [
    "Chapter 3 : Important probability distributions\n"
   ]
  },
  {
   "cell_type": "code",
   "execution_count": null,
   "metadata": {},
   "outputs": [],
   "source": [
    "# Import norm, matplotlib.pyplot, and seaborn\n",
    "from scipy.stats import norm\n",
    "import matplotlib.pyplot as plt\n",
    "import seaborn as sns\n",
    "\n",
    "# Create the sample using norm.rvs()\n",
    "sample = norm.rvs(loc=3.15, scale=1.5, size=10000, random_state=13)\n",
    "\n",
    "# Plot the sample\n",
    "sns.distplot(sample)\n",
    "plt.show()"
   ]
  },
  {
   "cell_type": "code",
   "execution_count": null,
   "metadata": {},
   "outputs": [],
   "source": [
    "# Probability of spending $3 or less\n",
    "spending = norm.cdf(3, loc=3.15, scale=1.5)\n",
    "print(spending)\n",
    "\n",
    "# Probability of spending more than $5\n",
    "spending = norm.sf(5, loc=3.15, scale=1.5)\n",
    "print(spending)\n",
    "\n",
    "# Probability of spending more than $2.15 and $4.15 or less\n",
    "spending_4 = norm.cdf(4.15, loc=3.15, scale=1.5)\n",
    "spending_2 = norm.cdf(2.15, loc=3.15, scale=1.5)\n",
    "print(spending_4 - spending_2)\n",
    "\n",
    "# Probability of spending $2.15 or less or more than $4.15\n",
    "spending_2 = norm.cdf(2.15, loc=3.15, scale=1.5)\n",
    "spending_over_4 = norm.sf(4.15, loc=3.15, scale=1.5) \n",
    "print(spending_2 + spending_over_4)"
   ]
  },
  {
   "cell_type": "code",
   "execution_count": null,
   "metadata": {},
   "outputs": [],
   "source": [
    "# Probability that battery will last less than 3 hours\n",
    "less_than_3h = norm.cdf(3, loc=5, scale=1.5)\n",
    "print(less_than_3h)\n",
    "\n",
    "# Probability that battery will last more than 3 hours\n",
    "more_than_3h = norm.sf(3, loc=5, scale=1.5)\n",
    "print(more_than_3h)\n",
    "\n",
    "# Probability that battery will last between 5 and 7 hours\n",
    "P_less_than_7h = norm.cdf(7, loc=5, scale=1.5)\n",
    "P_less_than_5h = norm.cdf(5, loc=5, scale=1.5)\n",
    "print(P_less_than_7h - P_less_than_5h)"
   ]
  },
  {
   "cell_type": "code",
   "execution_count": null,
   "metadata": {},
   "outputs": [],
   "source": [
    "# Values one standard deviation from mean height for females\n",
    "interval = norm.interval(0.68, loc=65, scale=3.5)\n",
    "print(interval)\n",
    "\n",
    "# Value where the tallest males fall with 0.01 probability\n",
    "tallest = norm.ppf(0.99, loc=70, scale=4)\n",
    "print(tallest)\n",
    "\n",
    "# Probability of being taller than 73 inches for males and females\n",
    "P_taller_male = norm.sf(73, loc=70, scale=4)\n",
    "P_taller_female = norm.sf(73, loc=65, scale=3.5)\n",
    "print(P_taller_male, P_taller_female)\n",
    "\n",
    "# Probability of being shorter than 61 inches for males and females\n",
    "P_shorter_male = norm.cdf(61, loc=70, scale=4)\n",
    "P_shorter_female = norm.cdf(61, loc=65, scale=3.5)\n",
    "print(P_shorter_male, P_shorter_female)"
   ]
  },
  {
   "cell_type": "code",
   "execution_count": null,
   "metadata": {},
   "outputs": [],
   "source": [
    "# Import poisson from scipy.stats\n",
    "from scipy.stats import poisson\n",
    "\n",
    "# Probability of more than 1 customer\n",
    "probability = poisson.sf(k=1, mu=1)\n",
    "\n",
    "# Print the result\n",
    "print(probability)"
   ]
  },
  {
   "cell_type": "code",
   "execution_count": null,
   "metadata": {},
   "outputs": [],
   "source": [
    "# Import the poisson object\n",
    "from scipy.stats import poisson\n",
    "\n",
    "# Probability of 5 accidents any day\n",
    "P_five_accidents = poisson.pmf(k=5, mu=2)\n",
    "\n",
    "# Print the result\n",
    "print(P_five_accidents)\n",
    "\n",
    "\n",
    "# Import the poisson object\n",
    "from scipy.stats import poisson\n",
    "\n",
    "# Probability of having 4 or 5 accidents on any day\n",
    "P_less_than_6 = poisson.cdf(k=5, mu=2)\n",
    "P_less_than_4 = poisson.cdf(k=3, mu=2)\n",
    "\n",
    "# Print the result\n",
    "print(P_less_than_6 - P_less_than_4)\n",
    "\n",
    "# Import the poisson object\n",
    "from scipy.stats import poisson\n",
    "\n",
    "# Probability of more than 3 accidents any day\n",
    "P_more_than_3 = poisson.sf(k=3, mu=2)\n",
    "\n",
    "# Print the result\n",
    "print(P_more_than_3)\n",
    "\n",
    "# Import the poisson object\n",
    "from scipy.stats import poisson\n",
    "\n",
    "# Number of accidents with 0.75 probability\n",
    "accidents = poisson.ppf(q=0.75 , mu=2)\n",
    "\n",
    "# Print the result\n",
    "print(accidents)"
   ]
  },
  {
   "cell_type": "code",
   "execution_count": null,
   "metadata": {},
   "outputs": [],
   "source": [
    "# Import poisson, matplotlib.pyplot, and seaborn\n",
    "from scipy.stats import poisson\n",
    "import matplotlib.pyplot as plt \n",
    "import seaborn as sns\n",
    "\n",
    "# Create the sample\n",
    "sample = poisson.rvs(mu=2, size=10000, random_state=13)\n",
    "\n",
    "# Plot the sample\n",
    "sns.distplot(sample, kde=False)\n",
    "plt.show()"
   ]
  },
  {
   "cell_type": "code",
   "execution_count": null,
   "metadata": {},
   "outputs": [],
   "source": [
    "# Getting a salmon on the third attempt\n",
    "probability = geom.pmf(k=3, p=0.0333)\n",
    "\n",
    "# Print the result\n",
    "print(probability)\n",
    "\n",
    "# Probability of getting a salmon in less than 5 attempts\n",
    "probability = geom.cdf(k=4, p=0.0333)\n",
    "\n",
    "# Print the result\n",
    "print(probability)\n",
    "\n",
    "\n",
    "# Probability of getting a salmon in less than 21 attempts\n",
    "probability = geom.cdf(k=20, p=0.0333)\n",
    "\n",
    "# Print the result\n",
    "print(probability)\n",
    "\n",
    "# Attempts for 0.9 probability of catching a salmon\n",
    "attempts = geom.ppf(q=0.9, p=0.0333)\n",
    "\n",
    "# Print the result\n",
    "print(attempts)"
   ]
  },
  {
   "cell_type": "code",
   "execution_count": null,
   "metadata": {},
   "outputs": [],
   "source": [
    "# Import geom from scipy.stats\n",
    "from scipy.stats import geom\n",
    "\n",
    "# Probability of missing first and scoring on second throw\n",
    "probability = geom.pmf(k=2, p=0.3)\n",
    "\n",
    "# Print the result\n",
    "print(probability)"
   ]
  },
  {
   "cell_type": "code",
   "execution_count": null,
   "metadata": {},
   "outputs": [],
   "source": [
    "# Import geom, matplotlib.pyplot, and seaborn\n",
    "from scipy.stats import geom\n",
    "import matplotlib.pyplot as plt\n",
    "import seaborn as sns\n",
    "\n",
    "# Create the sample\n",
    "sample = geom.rvs(p=0.3, size=10000, random_state=13)\n",
    "\n",
    "# Plot the sample\n",
    "sns.distplot(sample, bins = np.linspace(0,20,21), kde=False)\n",
    "plt.show()"
   ]
  },
  {
   "cell_type": "markdown",
   "metadata": {},
   "source": [
    "Chapter 4 :Probability meets statistics\n",
    "\n",
    "No that you know how to calculate probabilities and important properties of probability distributions, we'll introduce two important results: the law of large numbers and the central limit theorem. This will expand your understanding on how the sample mean converges to the population mean as more data is available and how the sum of random variables behaves under certain conditions. We will also explore connections between linear and logistic regressions as applications of probability and statistics in data science."
   ]
  },
  {
   "cell_type": "code",
   "execution_count": null,
   "metadata": {},
   "outputs": [],
   "source": [
    "# Import the binom object\n",
    "from scipy.stats import binom\n",
    "\n",
    "# Generate a sample of 250 newborn children\n",
    "sample = binom.rvs(n=1, p=0.5050, size=250, random_state=42)\n",
    "\n",
    "# Show the sample values\n",
    "print(sample)"
   ]
  },
  {
   "cell_type": "code",
   "execution_count": null,
   "metadata": {},
   "outputs": [],
   "source": [
    "# Print the sample mean of the first 10 samples\n",
    "print(describe(sample[0:10]).mean)\n",
    "\n",
    "# Print the sample mean of the first 50 samples\n",
    "print(describe(sample[0:50]).mean)\n",
    "\n",
    "# Print the sample mean of the first 250 samples\n",
    "print(describe(sample[0:250]).mean)"
   ]
  },
  {
   "cell_type": "code",
   "execution_count": null,
   "metadata": {},
   "outputs": [],
   "source": [
    "# Calculate sample mean and store it on averages array\n",
    "averages = []\n",
    "for i in range(2, 251):\n",
    "    averages.append(describe(sample[0:i]).mean)\n",
    "\n",
    "# Add population mean line and sample mean plot\n",
    "plt.axhline(binom.mean(n=1, p=0.505), color='red')\n",
    "plt.plot(averages, '-')\n",
    "\n",
    "# Add legend\n",
    "plt.legend((\"Population mean\",\"Sample mean\"), loc='upper right')\n",
    "plt.show()"
   ]
  },
  {
   "cell_type": "code",
   "execution_count": null,
   "metadata": {},
   "outputs": [],
   "source": [
    "# Create list for sample means\n",
    "sample_means = []\n",
    "for _ in range(1500):\n",
    "\t# Take 20 values from the population\n",
    "    sample = np.random.choice(population, 20)\n",
    "    # Calculate the sample mean\n",
    "    sample_means.append(describe(sample).mean)\n",
    "\n",
    "# Plot the histogram\n",
    "plt.hist(sample_means)\n",
    "plt.xlabel(\"Sample mean values\")\n",
    "plt.ylabel(\"Frequency\")\n",
    "plt.show()"
   ]
  },
  {
   "cell_type": "code",
   "execution_count": null,
   "metadata": {},
   "outputs": [],
   "source": [
    "# Generate the population\n",
    "population = poisson.rvs(mu=2, size=1000)\n",
    "\n",
    "# Create list for sample means\n",
    "sample_means = []\n",
    "for _ in range(1500):\n",
    "\t# Take 20 values from the population\n",
    "    sample = np.random.choice(population, 20)\n",
    "    # Calculate the sample mean\n",
    "    sample_means.append(describe(sample).mean)\n",
    "\n",
    "# Plot the histogram\n",
    "plt.hist(sample_means)\n",
    "plt.show()"
   ]
  },
  {
   "cell_type": "code",
   "execution_count": null,
   "metadata": {},
   "outputs": [],
   "source": [
    "# Configure random generator\n",
    "np.random.seed(42)\n",
    "\n",
    "# Generate the samples\n",
    "sample1 = roll_dice(2000)\n",
    "sample2 = roll_dice(2000)\n",
    "sample3 = roll_dice(2000)\n",
    "\n",
    "# Add the first two samples\n",
    "sum_of_1_and_2 = np.add(sample1, sample2)\n",
    "\n",
    "# Add the first two with the third sample\n",
    "sum_of_3_samples = np.add(sum_of_1_and_2, sample3)\n",
    "\n",
    "# Plot the result\n",
    "plt.hist(sum_of_3_samples, bins=range(3, 20), width=0.9)\n",
    "plt.show() "
   ]
  },
  {
   "cell_type": "code",
   "execution_count": null,
   "metadata": {},
   "outputs": [],
   "source": [
    "# Import the linregress() function\n",
    "from scipy.stats import linregress\n",
    "\n",
    "# Get the model parameters\n",
    "slope, intercept, r_value, p_value, std_err = linregress(hours_of_study, scores)\n",
    "\n",
    "# Print the linear model parameters\n",
    "print('slope:', slope)\n",
    "print('intercept:', intercept)\n",
    "\n",
    "# Get the predicted test score for given hours of study\n",
    "score = slope*12 + intercept\n",
    "print('score:', score)"
   ]
  },
  {
   "cell_type": "code",
   "execution_count": null,
   "metadata": {},
   "outputs": [],
   "source": [
    "# Calculate the residuals\n",
    "residuals_B = model_B.predict(hours_of_study_B) - test_scores_B\n",
    "\n",
    "# Make a scatterplot of residuals of model_B\n",
    "plt.scatter(hours_of_study_B, residuals_B)\n",
    "\n",
    "# Add reference line and title and show plot\n",
    "plt.hlines(0, 0, 30, colors='r', linestyles='--')\n",
    "plt.title(\"Residuals plot of Model B\", fontsize=25)\n",
    "plt.show()"
   ]
  },
  {
   "cell_type": "code",
   "execution_count": null,
   "metadata": {},
   "outputs": [],
   "source": [
    "# Import LogisticRegression\n",
    "from sklearn.linear_model import LogisticRegression\n",
    "\n",
    "# sklearn logistic model\n",
    "model = LogisticRegression(C=1e9)\n",
    "model.fit(hours_of_study, outcomes)\n",
    "\n",
    "# Get parameters\n",
    "beta1 = model.coef_[0][0]\n",
    "beta0 = model.intercept_[0]\n",
    "\n",
    "# Print parameters\n",
    "print(beta1, beta0)"
   ]
  },
  {
   "cell_type": "code",
   "execution_count": null,
   "metadata": {},
   "outputs": [],
   "source": [
    "# Specify values to predict\n",
    "hours_of_study_test = [[10], [11], [12], [13], [14]]\n",
    "\n",
    "# Pass values to predict\n",
    "predicted_outcomes = model.predict(hours_of_study_test)\n",
    "print(predicted_outcomes)\n",
    "\n",
    "# Set value in array\n",
    "value = np.asarray(11).reshape(-1,1)\n",
    "# Probability of passing the test with 11 hours of study\n",
    "print(\"Probability of passing test \", model.predict_proba(value)[:,1])"
   ]
  },
  {
   "cell_type": "code",
   "execution_count": null,
   "metadata": {},
   "outputs": [],
   "source": [
    "# Specify values to predict\n",
    "hours_of_study_test_A = [[6], [7], [8], [9], [10]]\n",
    "\n",
    "# Pass values to predict\n",
    "predicted_outcomes_A = model_A.predict(hours_of_study_test_A)\n",
    "print(predicted_outcomes_A)\n",
    "\n",
    "# Specify values to predict\n",
    "hours_of_study_test_B = [[3], [4], [5], [6]]\n",
    "\n",
    "# Pass values to predict\n",
    "predicted_outcomes_B = model_B.predict(hours_of_study_test_B)\n",
    "print(predicted_outcomes_B)\n",
    "\n",
    "# Set value in array\n",
    "value_A = np.asarray(8.6).reshape(-1,1)\n",
    "# Probability of passing test A with 8.6 hours of study\n",
    "print(\"The probability of passing test A with 8.6 hours of study is \", model_A.predict_proba(value_A)[:,1])\n",
    "\n",
    "# Set value in array\n",
    "value_B = np.asarray(4.7).reshape(-1,1)\n",
    "# Probability of passing test B with 4.7 hours of study\n",
    "print(\"The probability of passing test B with 4.7 hours of study is \", model_B.predict_proba(value_B)[:,1])\n",
    "\n",
    "# Print the hours required to have 0.5 probability on model_A\n",
    "print(\"Minimum hours of study for test A are \", -model_A.intercept_/model_A.coef_)\n",
    "\n",
    "# Print the hours required to have 0.5 probability on model_B\n",
    "print(\"Minimum hours of study for test B are \", -model_B.intercept_/model_B.coef_)\n",
    "\n",
    "# Probability calculation for each value of study_hours\n",
    "prob_passing_A = model_A.predict_proba(study_hours_A.reshape(-1,1))[:,1]\n",
    "prob_passing_B = model_B.predict_proba(study_hours_B.reshape(-1,1))[:,1]\n",
    "\n",
    "# Calculate the probability of passing both tests\n",
    "prob_passing_A_and_B = prob_passing_A * prob_passing_B\n",
    "\n",
    "# Maximum probability value\n",
    "max_prob = max(prob_passing_A_and_B)\n",
    "\n",
    "# Position where we get the maximum value\n",
    "max_position = np.where(prob_passing_A_and_B == max_prob)[0][0]\n",
    "\n",
    "# Study hours for each test\n",
    "print(\"Study {:1.0f} hours for the first and {:1.0f} hours for the second test and you will pass both tests with {:01.2f} probability.\".format(study_hours_A[max_position], study_hours_B[max_position], max_prob))"
   ]
  },
  {
   "cell_type": "code",
   "execution_count": null,
   "metadata": {},
   "outputs": [],
   "source": []
  },
  {
   "cell_type": "code",
   "execution_count": null,
   "metadata": {},
   "outputs": [],
   "source": []
  },
  {
   "cell_type": "code",
   "execution_count": null,
   "metadata": {},
   "outputs": [],
   "source": []
  },
  {
   "cell_type": "code",
   "execution_count": null,
   "metadata": {},
   "outputs": [],
   "source": []
  },
  {
   "cell_type": "code",
   "execution_count": null,
   "metadata": {},
   "outputs": [],
   "source": []
  },
  {
   "cell_type": "code",
   "execution_count": null,
   "metadata": {},
   "outputs": [],
   "source": []
  },
  {
   "cell_type": "code",
   "execution_count": null,
   "metadata": {},
   "outputs": [],
   "source": []
  },
  {
   "cell_type": "code",
   "execution_count": null,
   "metadata": {},
   "outputs": [],
   "source": []
  },
  {
   "cell_type": "code",
   "execution_count": null,
   "metadata": {},
   "outputs": [],
   "source": []
  },
  {
   "cell_type": "code",
   "execution_count": null,
   "metadata": {},
   "outputs": [],
   "source": []
  },
  {
   "cell_type": "code",
   "execution_count": null,
   "metadata": {},
   "outputs": [],
   "source": []
  },
  {
   "cell_type": "code",
   "execution_count": null,
   "metadata": {},
   "outputs": [],
   "source": []
  },
  {
   "cell_type": "code",
   "execution_count": null,
   "metadata": {},
   "outputs": [],
   "source": []
  },
  {
   "cell_type": "code",
   "execution_count": null,
   "metadata": {},
   "outputs": [],
   "source": []
  },
  {
   "cell_type": "code",
   "execution_count": null,
   "metadata": {},
   "outputs": [],
   "source": []
  },
  {
   "cell_type": "code",
   "execution_count": null,
   "metadata": {},
   "outputs": [],
   "source": []
  },
  {
   "cell_type": "code",
   "execution_count": null,
   "metadata": {},
   "outputs": [],
   "source": []
  },
  {
   "cell_type": "code",
   "execution_count": null,
   "metadata": {},
   "outputs": [],
   "source": []
  },
  {
   "cell_type": "code",
   "execution_count": null,
   "metadata": {},
   "outputs": [],
   "source": []
  },
  {
   "cell_type": "code",
   "execution_count": null,
   "metadata": {},
   "outputs": [],
   "source": []
  },
  {
   "cell_type": "code",
   "execution_count": null,
   "metadata": {},
   "outputs": [],
   "source": []
  },
  {
   "cell_type": "code",
   "execution_count": null,
   "metadata": {},
   "outputs": [],
   "source": []
  },
  {
   "cell_type": "code",
   "execution_count": null,
   "metadata": {},
   "outputs": [],
   "source": []
  },
  {
   "cell_type": "code",
   "execution_count": null,
   "metadata": {},
   "outputs": [],
   "source": []
  },
  {
   "cell_type": "code",
   "execution_count": null,
   "metadata": {},
   "outputs": [],
   "source": []
  },
  {
   "cell_type": "code",
   "execution_count": null,
   "metadata": {},
   "outputs": [],
   "source": []
  },
  {
   "cell_type": "code",
   "execution_count": null,
   "metadata": {},
   "outputs": [],
   "source": []
  },
  {
   "cell_type": "code",
   "execution_count": null,
   "metadata": {},
   "outputs": [],
   "source": []
  },
  {
   "cell_type": "code",
   "execution_count": null,
   "metadata": {},
   "outputs": [],
   "source": []
  },
  {
   "cell_type": "code",
   "execution_count": null,
   "metadata": {},
   "outputs": [],
   "source": []
  },
  {
   "cell_type": "code",
   "execution_count": null,
   "metadata": {},
   "outputs": [],
   "source": []
  },
  {
   "cell_type": "code",
   "execution_count": null,
   "metadata": {},
   "outputs": [],
   "source": []
  },
  {
   "cell_type": "code",
   "execution_count": null,
   "metadata": {},
   "outputs": [],
   "source": []
  },
  {
   "cell_type": "code",
   "execution_count": null,
   "metadata": {},
   "outputs": [],
   "source": []
  },
  {
   "cell_type": "code",
   "execution_count": null,
   "metadata": {},
   "outputs": [],
   "source": []
  },
  {
   "cell_type": "code",
   "execution_count": null,
   "metadata": {},
   "outputs": [],
   "source": []
  },
  {
   "cell_type": "code",
   "execution_count": null,
   "metadata": {},
   "outputs": [],
   "source": []
  },
  {
   "cell_type": "code",
   "execution_count": null,
   "metadata": {},
   "outputs": [],
   "source": []
  },
  {
   "cell_type": "code",
   "execution_count": null,
   "metadata": {},
   "outputs": [],
   "source": []
  },
  {
   "cell_type": "code",
   "execution_count": null,
   "metadata": {},
   "outputs": [],
   "source": []
  },
  {
   "cell_type": "code",
   "execution_count": null,
   "metadata": {},
   "outputs": [],
   "source": []
  },
  {
   "cell_type": "code",
   "execution_count": null,
   "metadata": {},
   "outputs": [],
   "source": []
  },
  {
   "cell_type": "code",
   "execution_count": null,
   "metadata": {},
   "outputs": [],
   "source": []
  },
  {
   "cell_type": "code",
   "execution_count": null,
   "metadata": {},
   "outputs": [],
   "source": []
  },
  {
   "cell_type": "code",
   "execution_count": null,
   "metadata": {},
   "outputs": [],
   "source": []
  },
  {
   "cell_type": "code",
   "execution_count": null,
   "metadata": {},
   "outputs": [],
   "source": []
  },
  {
   "cell_type": "code",
   "execution_count": null,
   "metadata": {},
   "outputs": [],
   "source": []
  },
  {
   "cell_type": "code",
   "execution_count": null,
   "metadata": {},
   "outputs": [],
   "source": []
  },
  {
   "cell_type": "code",
   "execution_count": null,
   "metadata": {},
   "outputs": [],
   "source": []
  },
  {
   "cell_type": "code",
   "execution_count": null,
   "metadata": {},
   "outputs": [],
   "source": []
  },
  {
   "cell_type": "code",
   "execution_count": null,
   "metadata": {},
   "outputs": [],
   "source": []
  },
  {
   "cell_type": "code",
   "execution_count": null,
   "metadata": {},
   "outputs": [],
   "source": []
  },
  {
   "cell_type": "code",
   "execution_count": null,
   "metadata": {},
   "outputs": [],
   "source": []
  },
  {
   "cell_type": "code",
   "execution_count": null,
   "metadata": {},
   "outputs": [],
   "source": []
  },
  {
   "cell_type": "code",
   "execution_count": null,
   "metadata": {},
   "outputs": [],
   "source": []
  },
  {
   "cell_type": "code",
   "execution_count": null,
   "metadata": {},
   "outputs": [],
   "source": []
  },
  {
   "cell_type": "code",
   "execution_count": null,
   "metadata": {},
   "outputs": [],
   "source": []
  },
  {
   "cell_type": "code",
   "execution_count": null,
   "metadata": {},
   "outputs": [],
   "source": []
  },
  {
   "cell_type": "code",
   "execution_count": null,
   "metadata": {},
   "outputs": [],
   "source": []
  },
  {
   "cell_type": "code",
   "execution_count": null,
   "metadata": {},
   "outputs": [],
   "source": []
  },
  {
   "cell_type": "code",
   "execution_count": null,
   "metadata": {},
   "outputs": [],
   "source": []
  },
  {
   "cell_type": "code",
   "execution_count": null,
   "metadata": {},
   "outputs": [],
   "source": []
  },
  {
   "cell_type": "code",
   "execution_count": null,
   "metadata": {},
   "outputs": [],
   "source": []
  },
  {
   "cell_type": "code",
   "execution_count": null,
   "metadata": {},
   "outputs": [],
   "source": []
  },
  {
   "cell_type": "code",
   "execution_count": null,
   "metadata": {},
   "outputs": [],
   "source": []
  },
  {
   "cell_type": "code",
   "execution_count": null,
   "metadata": {},
   "outputs": [],
   "source": []
  },
  {
   "cell_type": "code",
   "execution_count": null,
   "metadata": {},
   "outputs": [],
   "source": []
  },
  {
   "cell_type": "code",
   "execution_count": null,
   "metadata": {},
   "outputs": [],
   "source": []
  }
 ],
 "metadata": {
  "kernelspec": {
   "display_name": "Python 3",
   "language": "python",
   "name": "python3"
  },
  "language_info": {
   "codemirror_mode": {
    "name": "ipython",
    "version": 3
   },
   "file_extension": ".py",
   "mimetype": "text/x-python",
   "name": "python",
   "nbconvert_exporter": "python",
   "pygments_lexer": "ipython3",
   "version": "3.7.1"
  }
 },
 "nbformat": 4,
 "nbformat_minor": 2
}
