{
 "cells": [
  {
   "cell_type": "markdown",
   "metadata": {},
   "source": [
    "CHAPTER 1 : Manipulating files and directories"
   ]
  },
  {
   "cell_type": "markdown",
   "metadata": {},
   "source": [
    "How does the shell compare to a desktop interface?\n",
    "An operating system like Windows, Linux, or Mac OS is a special kind of program. It controls the computer's processor, hard drive, and network connection, but its most important job is to run other programs.\n",
    "\n",
    "Since human beings aren't digital, they need an interface to interact with the operating system. The most common one these days is a graphical file explorer, which translates clicks and double-clicks into commands to open files and run programs. Before computers had graphical displays, though, people typed instructions into a program called a command-line shell. Each time a command is entered, the shell runs some other programs, prints their output in human-readable form, and then displays a prompt to signal that it's ready to accept the next command. (Its name comes from the notion that it's the \"outer shell\" of the computer.)\n",
    "\n",
    "Typing commands instead of clicking and dragging may seem clumsy at first, but as you will see, once you start spelling out what you want the computer to do, you can combine old commands to create new ones and automate repetitive operations with just a few keystrokes.\n",
    "\n"
   ]
  },
  {
   "cell_type": "raw",
   "metadata": {},
   "source": [
    "pwd : print working directory \n",
    "\n",
    "ls : with an appropriate argument to list the files in the directory \n",
    "\n",
    "cd : (which stands for \"change directory\").\n",
    "\n",
    ". A relative path, on the other hand, specifies a location starting from where you are"
   ]
  },
  {
   "cell_type": "markdown",
   "metadata": {},
   "source": [
    "How can I move up a directory?\n",
    "The parent of a directory is the directory above it. For example, /home is the parent of /home/repl, and /home/repl is the parent of /home/repl/seasonal. You can always give the absolute path of your parent directory to commands like cd and ls. More often, though, you will take advantage of the fact that the special path .. (two dots with no spaces) means \"the directory above the one I'm currently in\". If you are in /home/repl/seasonal, then cd .. moves you up to /home/repl. If you use cd .. once again, it puts you in /home. One more cd .. puts you in the root directory /, which is the very top of the filesystem. (Remember to put a space between cd and .. - it is a command and a path, not a single four-letter command.)\n",
    "\n",
    "A single dot on its own, ., always means \"the current directory\", so ls on its own and ls . do the same thing, while cd . has no effect (because it moves you into the directory you're currently in).\n",
    "\n",
    "One final special path is ~ (the tilde character), which means \"your home directory\", such as /home/repl. No matter where you are, ls ~ will always list the contents of your home directory, and cd ~ will always take you home."
   ]
  },
  {
   "cell_type": "raw",
   "metadata": {},
   "source": [
    "How can I copy files?\n",
    "cp original.txt duplicate.txt\n",
    "cp seasonal/summer.csv /home/repl/backup/summer.bck\n",
    "cp seasonal/spring.csv seasonal/summer.csv /home/repl/backup/"
   ]
  },
  {
   "cell_type": "code",
   "execution_count": null,
   "metadata": {},
   "outputs": [],
   "source": [
    "How can I move files?\n",
    "mv autumn.csv winter.csv\n",
    "mv seasonal/spring.csv seasonal/summer.csv /home/repl/backup/"
   ]
  },
  {
   "cell_type": "code",
   "execution_count": null,
   "metadata": {},
   "outputs": [],
   "source": [
    "How can I rename files?\n",
    "$ cd seasonal/$ mv winter.csv winter.csv.bck\n",
    "$ ls\n",
    "autumn.csv  spring.csv  summer.csv  winter.csv.bck\n"
   ]
  },
  {
   "cell_type": "code",
   "execution_count": null,
   "metadata": {},
   "outputs": [],
   "source": [
    "How can I delete files?\n",
    "$ cd seasonal/$ rm autumn.csv\n",
    "$ cd ..\n",
    "$ rm seasonal/summer.csv\n"
   ]
  },
  {
   "cell_type": "code",
   "execution_count": null,
   "metadata": {},
   "outputs": [],
   "source": [
    "How can I create and delete directories?\n",
    "$ rm people/agarwal.txt$ rm people/\n",
    "rm: cannot remove 'people/': Is a directory$ rmdir people/\n",
    "$ mkdir yearly\n",
    "$ mkdir yearly/2017"
   ]
  },
  {
   "cell_type": "code",
   "execution_count": null,
   "metadata": {},
   "outputs": [],
   "source": [
    "Wrapping up\n",
    "$ cd /tmp/\n",
    "$ ls /tmp/\n",
    "tmp7xpklijb  tmp_m1d4iee  tmpez9fpb7y  tmpnd2igq_s  tmpwvtun2artmp9uuwr4qd  tmpamldjrqj  tmpfbqb0l_2  tmpo_93_l1q  tmpx7fnng5e\n",
    "$ mkdir /tmp/scratch\n",
    "$ mv /home/repl/people/agarwal.txt  /tmp/scratch/\n"
   ]
  },
  {
   "cell_type": "markdown",
   "metadata": {},
   "source": [
    "chapter 2\n",
    "Manipulating data\n"
   ]
  },
  {
   "cell_type": "code",
   "execution_count": null,
   "metadata": {},
   "outputs": [],
   "source": [
    "How can I view a file's contents?\n",
    "$ cat course.txt"
   ]
  },
  {
   "cell_type": "code",
   "execution_count": null,
   "metadata": {},
   "outputs": [],
   "source": [
    "How can I view a file's contents piece by piece?\n",
    "less seasonal/spring.csv seasonal/summer.csv"
   ]
  },
  {
   "cell_type": "code",
   "execution_count": null,
   "metadata": {},
   "outputs": [],
   "source": [
    "How can I look at the start of a file?\n",
    "head people/agarwal.txt\n",
    "\n",
    "How can I control what commands do?\n",
    "head -n 5 seasonal/winter.csv"
   ]
  },
  {
   "cell_type": "code",
   "execution_count": null,
   "metadata": {},
   "outputs": [],
   "source": [
    "How can I list everything below a directory?\n",
    "ls -R -F"
   ]
  },
  {
   "cell_type": "code",
   "execution_count": null,
   "metadata": {},
   "outputs": [],
   "source": [
    "How can I get help for a command?\n",
    "\n",
    "man tail$ tail -n +7 seasonal/spring.csv\n",
    "2017-03-12,wisdom2017-03-14,incisor\n",
    "2017-03-21,molar\n",
    "2017-04-29,wisdom\n",
    "2017-05-08,canine\n",
    "2017-05-20,canine\n",
    "2017-05-21,canine\n",
    "2017-05-25,canine\n",
    "2017-06-04,molar\n",
    "2017-06-13,bicuspid\n",
    "2017-06-14,canine\n",
    "2017-07-10,incisor\n",
    "2017-07-16,bicuspid\n",
    "2017-07-23,bicuspid\n",
    "2017-08-13,bicuspid\n",
    "2017-08-13,incisor\n",
    "2017-08-13,wisdom\n",
    "2017-09-07,molar"
   ]
  },
  {
   "cell_type": "code",
   "execution_count": null,
   "metadata": {},
   "outputs": [],
   "source": [
    "How can I select columns from a file?\n",
    "cut -d , -f 1 seasonal/spring.csv\n",
    "cut -d, -f1 seasonal/spring.csv\n",
    "**it doesn't understand quoted strings"
   ]
  },
  {
   "cell_type": "code",
   "execution_count": null,
   "metadata": {},
   "outputs": [],
   "source": [
    "How can I repeat commands?\n",
    "$!head\n",
    "head summer.csv\n",
    "Date,Tooth\n",
    "2017-01-11,canine\n",
    "2017-01-18,wisdom\n",
    "2017-01-21,bicuspid\n",
    "2017-02-02,molar\n",
    "2017-02-27,wisdom\n",
    "2017-02-27,wisdom\n",
    "2017-03-07,bicuspid\n",
    "2017-03-15,wisdom\n",
    "2017-03-20,canine"
   ]
  },
  {
   "cell_type": "code",
   "execution_count": null,
   "metadata": {},
   "outputs": [],
   "source": [
    "How can I select lines containing specific values?\n",
    "$grep molar seasonal/spring.csv\n",
    "2017-03-21,molar\n",
    "2017-06-04,molar\n",
    "2017-09-07,molar\n",
    "\n",
    "$ grep -c incisor seasonal/autumn.csv seasonal/winter.csv\n",
    "seasonal/autumn.csv:3\n",
    "seasonal/winter.csv:6"
   ]
  },
  {
   "cell_type": "markdown",
   "metadata": {},
   "source": [
    "Chapter 3\n",
    "Combining tools\n"
   ]
  },
  {
   "cell_type": "code",
   "execution_count": null,
   "metadata": {},
   "outputs": [],
   "source": [
    "How can I store a command's output in a file?\n",
    "$tail -n 5 seasonal/winter.csv > last.csv"
   ]
  },
  {
   "cell_type": "code",
   "execution_count": null,
   "metadata": {},
   "outputs": [],
   "source": [
    "How can I use a command's output as an input?\n",
    "$ tail -n 2 seasonal/winter.csv > bottom.csv\n",
    "$ head -n 1 bottom.csv2017-08-11,wisdom"
   ]
  },
  {
   "cell_type": "code",
   "execution_count": null,
   "metadata": {},
   "outputs": [],
   "source": [
    "What's a better way to combine commands?(a pipe)\n",
    "$cut -d, -f2 seasonal/summer.csv | grep -v Tooth"
   ]
  },
  {
   "cell_type": "code",
   "execution_count": null,
   "metadata": {},
   "outputs": [],
   "source": [
    "How can I combine many commands?\n",
    "$cut -d , -f 2 seasonal/summer.csv | grep -v Tooth | head -n 1\n",
    "canine"
   ]
  },
  {
   "cell_type": "markdown",
   "metadata": {},
   "source": [
    "How can I count the records in a file?\n",
    "The command wc (short for \"word count\") prints the number of characters, words, and lines in a file. You can make it print only one of these using -c, -w, or -l respectively.\n"
   ]
  },
  {
   "cell_type": "code",
   "execution_count": null,
   "metadata": {},
   "outputs": [],
   "source": [
    "$ grep 2017-07  seasonal/spring.csv | wc -c\n",
    "59\n",
    "$ grep 2017-07  seasonal/spring.csv | wc -l\n",
    "3"
   ]
  },
  {
   "cell_type": "code",
   "execution_count": null,
   "metadata": {},
   "outputs": [],
   "source": [
    "How can I specify many files at once?\n",
    "$ head -n 3 seasonal/spring.csv seasonal/summer.csv==> seasonal/spring.csv <==\n",
    "Date,Tooth2017-01-25,wisdom\n",
    "2017-02-19,canine\n",
    "\n",
    "==> seasonal/summer.csv <==\n",
    "Date,Tooth\n",
    "2017-01-11,canine\n",
    "2017-01-18,wisdom"
   ]
  },
  {
   "cell_type": "markdown",
   "metadata": {},
   "source": [
    "What other wildcards can I use?\n",
    "The shell has other wildcards as well, though they are less commonly used:\n",
    "\n",
    "? matches a single character, so 201?.txt will match 2017.txt or 2018.txt, but not 2017-01.txt.\n",
    "[...] matches any one of the characters inside the square brackets, so 201[78].txt matches 2017.txt or 2018.txt, but not 2016.txt.\n",
    "{...} matches any of the comma-separated patterns inside the curly brackets, so {*.txt, *.csv} matches any file whose name ends with .txt or .csv, but not files whose names end with .pdf"
   ]
  },
  {
   "cell_type": "markdown",
   "metadata": {},
   "source": [
    "How can I sort lines of text?\n",
    "As its name suggests, sort puts data in order. By default it does this in ascending alphabetical order, but the flags -n and -r can be used to sort numerically and reverse the order of its output, while -b tells it to ignore leading blanks and -f tells it to fold case (i.e., be case-insensitive). Pipelines often use grep to get rid of unwanted records and then sort to put the remaining records in order."
   ]
  },
  {
   "cell_type": "code",
   "execution_count": null,
   "metadata": {},
   "outputs": [],
   "source": [
    "$ cut -d , -f 2 seasonal/winter.csv | grep -v Tooth | sort -r"
   ]
  },
  {
   "cell_type": "code",
   "execution_count": null,
   "metadata": {},
   "outputs": [],
   "source": [
    "How can I remove duplicate lines?\n",
    "$ cut -d , -f 2 seasonal/winter.csv | grep -v Tooth | sort|uniq -c\n",
    "      4 bicuspid\n",
    "      7 canine\n",
    "      6 incisor\n",
    "      4 molar\n",
    "      4 wisdom"
   ]
  },
  {
   "cell_type": "markdown",
   "metadata": {},
   "source": [
    "How can I save the output of a pipe?\n",
    "The shell lets us redirect the output of a sequence of piped commands:\n",
    "\n",
    "cut -d , -f 2 seasonal/*.csv | grep -v Tooth > teeth-only.txt\n",
    "However, > must appear at the end of the pipeline: if we try to use it in the middle, like this:\n",
    "\n",
    "cut -d , -f 2 seasonal/*.csv > teeth-only.txt | grep -v Tooth\n",
    "then all of the output from cut is written to teeth-only.txt, so there is nothing left for grep and it waits forever for some input."
   ]
  },
  {
   "cell_type": "markdown",
   "metadata": {},
   "source": [
    "How can I stop a running program?\n",
    "The commands and scripts that you have run so far have all executed quickly, but some tasks will take minutes, hours, or even days to complete. You may also mistakenly put redirection in the middle of a pipeline, causing it to hang up. If you decide that you don't want a program to keep running, you can type Ctrl + C to end it. This is often written ^C in Unix documentation; note that the 'c' can be lower-case."
   ]
  },
  {
   "cell_type": "markdown",
   "metadata": {},
   "source": [
    "Wrapping up\n",
    "$ wc -l seasonal/wc: seasonal/: Is a directory\n",
    "0 seasonal/\n",
    "$ wc -l seasonal/*\n",
    "  21 seasonal/autumn.csv\n",
    "  24 seasonal/spring.csv\n",
    "  25 seasonal/summer.csv\n",
    "  26 seasonal/winter.csv\n",
    "  96 total\n",
    "$ wc -l seasonal/* | grep -v total\n",
    "  21 seasonal/autumn.csv\n",
    "  24 seasonal/spring.csv\n",
    "  25 seasonal/summer.csv\n",
    "  26 seasonal/winter.csv\n",
    "$ wc -l seasonal/* | grep -v total | sort -n | head -n 1\n",
    "  21 seasonal/autumn.csv"
   ]
  },
  {
   "cell_type": "markdown",
   "metadata": {},
   "source": [
    "CHAPTER 4\n",
    "Batch processing"
   ]
  },
  {
   "cell_type": "code",
   "execution_count": null,
   "metadata": {},
   "outputs": [],
   "source": [
    "How can I print a variable's value?\n",
    "$ echo $OSTYPE\n",
    "linux-gnu"
   ]
  },
  {
   "cell_type": "code",
   "execution_count": null,
   "metadata": {},
   "outputs": [],
   "source": [
    "How else does the shell store information?\n",
    "$ testing=seasonal/winter.csv\n",
    "$ head -n 1 $testing\n",
    "Date,Tooth"
   ]
  },
  {
   "cell_type": "code",
   "execution_count": null,
   "metadata": {},
   "outputs": [],
   "source": [
    "How can I repeat a command many times?\n",
    "$ for filetype in docx odt pdf; do echo $filetype; done\n",
    "docx\n",
    "odt\n",
    "pdf"
   ]
  },
  {
   "cell_type": "code",
   "execution_count": null,
   "metadata": {},
   "outputs": [],
   "source": [
    "How can I repeat a command once for each file?\n",
    "$ for filename in people/*;do echo $filename;done\n",
    "people/agarwal.txt"
   ]
  },
  {
   "cell_type": "markdown",
   "metadata": {},
   "source": [
    "Chapter5\n",
    "Creating new tools"
   ]
  },
  {
   "cell_type": "code",
   "execution_count": null,
   "metadata": {},
   "outputs": [],
   "source": [
    "How can I record the names of a set of files?\n",
    "$ files=seasonal/*.csv\n",
    "$ for f in $files; do echo $f; done\n",
    "seasonal/autumn.csv\n",
    "seasonal/spring.csv\n",
    "seasonal/summer.csv\n",
    "seasonal/winter.csv"
   ]
  },
  {
   "cell_type": "code",
   "execution_count": null,
   "metadata": {},
   "outputs": [],
   "source": [
    "How can I run many commands in a single loop?\n",
    "$ for file in seasonal/*csv;do grep 2017-07 $file|tail -n 1;done\n",
    "2017-07-21,bicuspid\n",
    "2017-07-23,bicuspid\n",
    "2017-07-25,canine\n",
    "2017-07-17,canine"
   ]
  },
  {
   "cell_type": "code",
   "execution_count": null,
   "metadata": {},
   "outputs": [],
   "source": [
    "How can I edit a file?\n",
    "Ctrl + K: delete a line.\n",
    "Ctrl + U: un-delete a line.\n",
    "Ctrl + O: save the file ('O' stands for 'output'). You will also need to press Enter to confirm the filename!\n",
    "Ctrl + X: exit the editor.\n",
    "\n",
    "$nano names.txt"
   ]
  },
  {
   "cell_type": "code",
   "execution_count": null,
   "metadata": {},
   "outputs": [],
   "source": [
    "How can I record what I just did?\n",
    "$ cp seasonal/spring.csv seasonal/summer.csv ~              => ~ for my home\n",
    "$ grep -h -v Tooth spring.csv summer.csv > temp.csv\n",
    "$ history | tail -n 3 >steps.txt\n",
    "$ nano steps.txt"
   ]
  },
  {
   "cell_type": "code",
   "execution_count": null,
   "metadata": {},
   "outputs": [],
   "source": [
    "How can I save commands to re-run later?\n",
    "save commands on a file \n",
    "$ nano dates.sh\n",
    "then run bash\n",
    "$ bash dates.sh"
   ]
  },
  {
   "cell_type": "code",
   "execution_count": null,
   "metadata": {},
   "outputs": [],
   "source": [
    "How can I re-use pipes?\n",
    "\n",
    "$ nano teeth.sh\n",
    "$ bash teeth.sh > teeth.out                and write inside(cut -d , -f 1 seasonal/*.csv | grep -v Date | sort | uniq)\n",
    "$ cat teeth.out\n",
    "     15 bicuspid\n",
    "     31 canine\n",
    "     18 incisor\n",
    "     11 molar\n",
    "     17 wisdom"
   ]
  },
  {
   "cell_type": "code",
   "execution_count": null,
   "metadata": {},
   "outputs": [],
   "source": [
    "How can I pass filenames to scripts?\n",
    "$ nano count-records.sh                                      => tail -q -n +2 $@ | wc -l\n",
    "$ bash count-records.sh seasonal/*.csv > num-records.out\n"
   ]
  },
  {
   "cell_type": "code",
   "execution_count": null,
   "metadata": {},
   "outputs": [],
   "source": [
    "How can one shell script do many things?\n",
    "$ nano range.sh\n",
    "$ nano range.sh          \n",
    "$ nano range.sh\n",
    "$ bash range.sh seasonal/*.csv > range.out"
   ]
  },
  {
   "cell_type": "markdown",
   "metadata": {},
   "source": [
    "Nano Notes \n",
    "\n",
    "\"copy and paste\" is achieved by navigating to the line you want to copy, pressing CTRL + K to cut the line, then CTRL + U twice to paste two copies of it.\n",
    "\n",
    "\n",
    "As a reminder, to save what you have written in Nano, type Ctrl + O to write the file out, then Enter to confirm the filename, then Ctrl + X to exit the editor."
   ]
  },
  {
   "cell_type": "code",
   "execution_count": null,
   "metadata": {},
   "outputs": [],
   "source": [
    "How can I write loops in a shell script?\n",
    "# Print the first and last data records of each file.\n",
    "for filename in $@\n",
    "do\n",
    "    head -n 2 $filename | tail -n 1\n",
    "    tail -n 1 $filename\n",
    "done"
   ]
  },
  {
   "cell_type": "code",
   "execution_count": null,
   "metadata": {},
   "outputs": [],
   "source": [
    "$ nano date-range.sh\n",
    "$ bash date-range.sh seasonal/*.csv\n",
    "2017-01-05\n",
    "2017-08-16\n",
    "2017-01-25\n",
    "2017-09-07\n",
    "2017-01-11\n",
    "2017-08-04\n",
    "2017-01-03\n",
    "2017-08-13\n",
    "$ bash date-range.sh seasonal/*.csv | sort -n\n",
    "2017-01-03\n",
    "2017-01-05\n",
    "2017-01-11\n",
    "2017-01-25\n",
    "2017-08-04\n",
    "2017-08-13\n",
    "2017-08-16\n",
    "2017-09-07"
   ]
  }
 ],
 "metadata": {
  "kernelspec": {
   "display_name": "Python 3",
   "language": "python",
   "name": "python3"
  },
  "language_info": {
   "codemirror_mode": {
    "name": "ipython",
    "version": 3
   },
   "file_extension": ".py",
   "mimetype": "text/x-python",
   "name": "python",
   "nbconvert_exporter": "python",
   "pygments_lexer": "ipython3",
   "version": "3.7.1"
  }
 },
 "nbformat": 4,
 "nbformat_minor": 2
}
